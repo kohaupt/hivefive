{
 "cells": [
  {
   "cell_type": "markdown",
   "metadata": {},
   "source": [
    "# Notebook zur Evaluation der trainierten Modelle"
   ]
  },
  {
   "cell_type": "code",
   "execution_count": 14,
   "metadata": {},
   "outputs": [],
   "source": [
    "# Library imports\n",
    "from tqdm import tqdm\n",
    "import torch\n",
    "import torch.nn as nn\n",
    "import numpy as np\n",
    "import pandas as pd\n",
    "from sklearn.metrics import confusion_matrix\n",
    "from sklearn.metrics import classification_report\n",
    "import seaborn as sb"
   ]
  },
  {
   "cell_type": "code",
   "execution_count": 15,
   "metadata": {},
   "outputs": [],
   "source": [
    "# Allow imports from the src directory\n",
    "import sys\n",
    "import os\n",
    "from pathlib import Path\n",
    "path_src_dir = os.path.join(str(Path(os.path.dirname(os.path.abspath(os.path.abspath('')))).parents[0]), 'hivefive', 'src')\n",
    "path_modeling_dir = os.path.join(path_src_dir, 'modeling')\n",
    "sys.path.append(path_src_dir)\n",
    "sys.path.append(path_modeling_dir)"
   ]
  },
  {
   "cell_type": "code",
   "execution_count": 16,
   "metadata": {},
   "outputs": [],
   "source": [
    "# Import of local files\n",
    "import config\n",
    "from train import Train\n",
    "from model import CNNModel\n",
    "from yamnet import YamnetTransferModel\n",
    "import model_evaluation"
   ]
  },
  {
   "cell_type": "code",
   "execution_count": 17,
   "metadata": {},
   "outputs": [
    {
     "data": {
      "text/html": [
       "<div>\n",
       "<style scoped>\n",
       "    .dataframe tbody tr th:only-of-type {\n",
       "        vertical-align: middle;\n",
       "    }\n",
       "\n",
       "    .dataframe tbody tr th {\n",
       "        vertical-align: top;\n",
       "    }\n",
       "\n",
       "    .dataframe thead th {\n",
       "        text-align: right;\n",
       "    }\n",
       "</style>\n",
       "<table border=\"1\" class=\"dataframe\">\n",
       "  <thead>\n",
       "    <tr style=\"text-align: right;\">\n",
       "      <th></th>\n",
       "      <th>sample_name</th>\n",
       "      <th>label</th>\n",
       "      <th>hive_number</th>\n",
       "      <th>segment</th>\n",
       "    </tr>\n",
       "  </thead>\n",
       "  <tbody>\n",
       "    <tr>\n",
       "      <th>0</th>\n",
       "      <td>Hive1 12_06_2018_QueenBee____00_00_00</td>\n",
       "      <td>0</td>\n",
       "      <td>1</td>\n",
       "      <td>Hive1 12_06_2018_QueenBee____00_00_00__segment0</td>\n",
       "    </tr>\n",
       "    <tr>\n",
       "      <th>1</th>\n",
       "      <td>Hive1 12_06_2018_QueenBee____00_00_00</td>\n",
       "      <td>0</td>\n",
       "      <td>1</td>\n",
       "      <td>Hive1 12_06_2018_QueenBee____00_00_00__segment1</td>\n",
       "    </tr>\n",
       "    <tr>\n",
       "      <th>2</th>\n",
       "      <td>Hive1 12_06_2018_QueenBee____00_00_00</td>\n",
       "      <td>0</td>\n",
       "      <td>1</td>\n",
       "      <td>Hive1 12_06_2018_QueenBee____00_00_00__segment2</td>\n",
       "    </tr>\n",
       "    <tr>\n",
       "      <th>3</th>\n",
       "      <td>Hive1 12_06_2018_QueenBee____00_00_00</td>\n",
       "      <td>0</td>\n",
       "      <td>1</td>\n",
       "      <td>Hive1 12_06_2018_QueenBee____00_00_00__segment3</td>\n",
       "    </tr>\n",
       "    <tr>\n",
       "      <th>4</th>\n",
       "      <td>Hive1 12_06_2018_QueenBee____00_00_00</td>\n",
       "      <td>0</td>\n",
       "      <td>1</td>\n",
       "      <td>Hive1 12_06_2018_QueenBee____00_00_00__segment4</td>\n",
       "    </tr>\n",
       "  </tbody>\n",
       "</table>\n",
       "</div>"
      ],
      "text/plain": [
       "                             sample_name label hive_number  \\\n",
       "0  Hive1 12_06_2018_QueenBee____00_00_00     0           1   \n",
       "1  Hive1 12_06_2018_QueenBee____00_00_00     0           1   \n",
       "2  Hive1 12_06_2018_QueenBee____00_00_00     0           1   \n",
       "3  Hive1 12_06_2018_QueenBee____00_00_00     0           1   \n",
       "4  Hive1 12_06_2018_QueenBee____00_00_00     0           1   \n",
       "\n",
       "                                           segment  \n",
       "0  Hive1 12_06_2018_QueenBee____00_00_00__segment0  \n",
       "1  Hive1 12_06_2018_QueenBee____00_00_00__segment1  \n",
       "2  Hive1 12_06_2018_QueenBee____00_00_00__segment2  \n",
       "3  Hive1 12_06_2018_QueenBee____00_00_00__segment3  \n",
       "4  Hive1 12_06_2018_QueenBee____00_00_00__segment4  "
      ]
     },
     "execution_count": 17,
     "metadata": {},
     "output_type": "execute_result"
    }
   ],
   "source": [
    "metadata = np.load(config.PROCESSED_METADATA_FILE_SEGMENTED, allow_pickle=True)\n",
    "\n",
    "metadata_column_names = ['sample_name', \"label\", \"hive_number\", \"segment\",]\n",
    "metadata_df = pd.DataFrame(metadata, columns=metadata_column_names)\n",
    "\n",
    "metadata_df.head()"
   ]
  },
  {
   "cell_type": "markdown",
   "metadata": {},
   "source": [
    "# Training auf allen Daten"
   ]
  },
  {
   "cell_type": "code",
   "execution_count": null,
   "metadata": {},
   "outputs": [],
   "source": [
    "model_name = 'model_20240923_131940_19'\n",
    "\n",
    "trainer = Train(CNNModel(), nn.BCELoss())\n",
    "checkpoint_path = '../../models/final/' + model_name + '_checkpoint.pt'\n",
    "model = CNNModel()\n",
    "optimizer = torch.optim.Adam(model.parameters(), lr=0.0001)\n",
    "model_loaded, optimizer, start_epoch, train_samples, val_samples, test_samples = trainer.load_model(checkpoint_path, model, optimizer)"
   ]
  },
  {
   "cell_type": "code",
   "execution_count": null,
   "metadata": {},
   "outputs": [],
   "source": [
    "torch.onnx.export(model, next(iter(trainer.training_dataloader))[0], model_name + \"_CNN.onnx\", input_names=[\"MEL-Spectrograms\"], output_names=[\"predictions\"])"
   ]
  },
  {
   "cell_type": "code",
   "execution_count": null,
   "metadata": {},
   "outputs": [],
   "source": [
    "model = model_loaded\n",
    "\n",
    "model.eval()\n",
    "\n",
    "labels_test = []\n",
    "predictions_test = []\n",
    "\n",
    "with torch.no_grad():\n",
    "    device = \"cuda\" if torch.cuda.is_available() else \"cpu\"\n",
    "    print(f\"Evaluation will happen on {device}.\")\n",
    "    model.to(device)\n",
    "\n",
    "    for vdata in tqdm(trainer.test_dataloader):\n",
    "        vinputs, vlabels = vdata\n",
    "        vinputs, vlabels = vinputs.to(device), vlabels.to(device)\n",
    "        voutputs = model(vinputs)\n",
    "        labels_test.extend(vlabels)\n",
    "        predictions_test.extend(voutputs)\n",
    "\n",
    "labels_test = torch.stack(labels_test)\n",
    "predictions_test = torch.stack(predictions_test)\n",
    "\n",
    "print(labels_test.shape)"
   ]
  },
  {
   "cell_type": "code",
   "execution_count": null,
   "metadata": {},
   "outputs": [],
   "source": [
    "conf_matr = confusion_matrix(labels_test.cpu().numpy(), predictions_test.cpu().numpy().squeeze().round())\n",
    "plt = sb.heatmap(conf_matr, annot=True, fmt='d')\n",
    "plt.set_xlabel(\"Predicted\")\n",
    "plt.set_ylabel(\"Actual\")\n",
    "plt.set_title(\"Confusion Matrix: Trainiertes CNN auf allen Daten\")\n",
    "plt"
   ]
  },
  {
   "cell_type": "code",
   "execution_count": null,
   "metadata": {},
   "outputs": [],
   "source": [
    "print(classification_report(labels_test.cpu().numpy(), predictions_test.cpu().numpy().squeeze().round()))"
   ]
  },
  {
   "cell_type": "code",
   "execution_count": null,
   "metadata": {},
   "outputs": [],
   "source": [
    "predictions_test_array = predictions_test[:, np.newaxis]\n",
    "labels_test_array = labels_test[:, np.newaxis]"
   ]
  },
  {
   "cell_type": "code",
   "execution_count": null,
   "metadata": {},
   "outputs": [],
   "source": [
    "model_evaluation.plot_roc_curves(labels_test_array, predictions_test_array, classes=[\"label\"], title=\"ROC-Kurve für Vorhersage der Anwesenheit der Königin auf CNN-Modell mit allen Daten\")"
   ]
  },
  {
   "cell_type": "markdown",
   "metadata": {},
   "source": [
    "# Hive-Independent"
   ]
  },
  {
   "cell_type": "markdown",
   "metadata": {},
   "source": [
    "## Hive-Independent (Training-Hive 1, Test-Hive 3)"
   ]
  },
  {
   "cell_type": "code",
   "execution_count": null,
   "metadata": {},
   "outputs": [],
   "source": [
    "trainer_hive_independent = Train(CNNModel(), nn.BCELoss(), training_hive=1)"
   ]
  },
  {
   "cell_type": "code",
   "execution_count": null,
   "metadata": {},
   "outputs": [],
   "source": [
    "model_name = 'model_20240923_155143_18'\n",
    "\n",
    "checkpoint_path = '../../models/final/' + model_name + '_checkpoint.pt'\n",
    "model = CNNModel()\n",
    "optimizer = torch.optim.Adam(model.parameters(), lr=0.0001)\n",
    "model_loaded, optimizer, start_epoch, train_samples, val_samples, test_samples = trainer_hive_independent.load_model(checkpoint_path, model, optimizer)\n",
    "model = model_loaded"
   ]
  },
  {
   "cell_type": "code",
   "execution_count": null,
   "metadata": {},
   "outputs": [],
   "source": [
    "model.eval()\n",
    "\n",
    "labels_test = []\n",
    "predictions_test = []\n",
    "\n",
    "with torch.no_grad():\n",
    "    device = \"cuda\" if torch.cuda.is_available() else \"cpu\"\n",
    "    print(f\"Evaluation will happen on {device}.\")\n",
    "    model.to(device)\n",
    "\n",
    "    for vdata in tqdm(trainer_hive_independent.test_dataloader):\n",
    "        vinputs, vlabels = vdata\n",
    "        vinputs, vlabels = vinputs.to(device), vlabels.to(device)\n",
    "        voutputs = model(vinputs)\n",
    "        labels_test.extend(vlabels)\n",
    "        predictions_test.extend(voutputs)\n",
    "\n",
    "labels_test = torch.stack(labels_test)\n",
    "predictions_test = torch.stack(predictions_test)\n",
    "\n",
    "print(labels_test.shape)"
   ]
  },
  {
   "cell_type": "code",
   "execution_count": null,
   "metadata": {},
   "outputs": [],
   "source": [
    "conf_matr = confusion_matrix(labels_test.cpu().numpy(), predictions_test.cpu().numpy().squeeze().round())\n",
    "plt = sb.heatmap(conf_matr, annot=True, fmt='d')\n",
    "plt.set_xlabel(\"Predicted\")\n",
    "plt.set_ylabel(\"Actual\")\n",
    "plt.set_title(\"Confusion Matrix: Trainiertes CNN auf Daten des Bienenstocks 1\")\n",
    "plt"
   ]
  },
  {
   "cell_type": "code",
   "execution_count": null,
   "metadata": {},
   "outputs": [],
   "source": [
    "print(classification_report(labels_test.cpu().numpy(), predictions_test.cpu().numpy().squeeze().round()))"
   ]
  },
  {
   "cell_type": "code",
   "execution_count": null,
   "metadata": {},
   "outputs": [],
   "source": [
    "predictions_test_array = predictions_test[:, np.newaxis]\n",
    "labels_test_array = labels_test[:, np.newaxis]"
   ]
  },
  {
   "cell_type": "code",
   "execution_count": null,
   "metadata": {},
   "outputs": [],
   "source": [
    "model_evaluation.plot_roc_curves(labels_test_array, predictions_test_array, classes=[\"label\"], title=\"ROC-Kurve für Bienenstock-unabhängige Vorhersage \\n der Anwesenheit einer Königin (trainiert auf Bienenstock 1)\")"
   ]
  },
  {
   "cell_type": "markdown",
   "metadata": {},
   "source": [
    "## Hive-Independent (Training-Hive 3, Test-Hive 1)"
   ]
  },
  {
   "cell_type": "code",
   "execution_count": null,
   "metadata": {},
   "outputs": [],
   "source": [
    "trainer_hive_independent = Train(CNNModel(), nn.BCELoss(), training_hive=3)"
   ]
  },
  {
   "cell_type": "code",
   "execution_count": null,
   "metadata": {},
   "outputs": [],
   "source": [
    "model_name = 'model_20240923_171634_19'\n",
    "\n",
    "checkpoint_path = '../../models/final/' + model_name + '_checkpoint.pt'\n",
    "model = CNNModel()\n",
    "optimizer = torch.optim.Adam(model.parameters(), lr=0.0001)\n",
    "model_loaded, optimizer, start_epoch, train_samples, val_samples, test_samples = trainer_hive_independent.load_model(checkpoint_path, model, optimizer)\n",
    "model = model_loaded"
   ]
  },
  {
   "cell_type": "code",
   "execution_count": null,
   "metadata": {},
   "outputs": [],
   "source": [
    "model.eval()\n",
    "\n",
    "labels_test = []\n",
    "predictions_test = []\n",
    "\n",
    "with torch.no_grad():\n",
    "    device = \"cuda\" if torch.cuda.is_available() else \"cpu\"\n",
    "    print(f\"Evaluation will happen on {device}.\")\n",
    "    model.to(device)\n",
    "\n",
    "    for vdata in tqdm(trainer_hive_independent.test_dataloader):\n",
    "        vinputs, vlabels = vdata\n",
    "        vinputs, vlabels = vinputs.to(device), vlabels.to(device)\n",
    "        voutputs = model(vinputs)\n",
    "        labels_test.extend(vlabels)\n",
    "        predictions_test.extend(voutputs)\n",
    "\n",
    "labels_test = torch.stack(labels_test)\n",
    "predictions_test = torch.stack(predictions_test)\n",
    "\n",
    "print(labels_test.shape)"
   ]
  },
  {
   "cell_type": "code",
   "execution_count": null,
   "metadata": {},
   "outputs": [],
   "source": [
    "conf_matr = confusion_matrix(labels_test.cpu().numpy(), predictions_test.cpu().numpy().squeeze().round())\n",
    "plt = sb.heatmap(conf_matr, annot=True, fmt='d')\n",
    "plt.set_xlabel(\"Predicted\")\n",
    "plt.set_ylabel(\"Actual\")\n",
    "plt.set_title(\"Confusion Matrix: Trainiertes CNN auf Daten des Bienenstocks 3\")\n",
    "plt"
   ]
  },
  {
   "cell_type": "code",
   "execution_count": null,
   "metadata": {},
   "outputs": [],
   "source": [
    "print(classification_report(labels_test.cpu().numpy(), predictions_test.cpu().numpy().squeeze().round()))"
   ]
  },
  {
   "cell_type": "code",
   "execution_count": null,
   "metadata": {},
   "outputs": [],
   "source": [
    "predictions_test_array = predictions_test[:, np.newaxis]\n",
    "labels_test_array = labels_test[:, np.newaxis]"
   ]
  },
  {
   "cell_type": "code",
   "execution_count": null,
   "metadata": {},
   "outputs": [],
   "source": [
    "model_evaluation.plot_roc_curves(labels_test_array, predictions_test_array, classes=[\"label\"], title=\"ROC-Kurve für Bienenstock-unabhängige Vorhersage \\n der Anwesenheit einer Königin (trainiert auf Bienenstock 3)\")"
   ]
  },
  {
   "cell_type": "markdown",
   "metadata": {},
   "source": [
    "# Transfer Learning Modell (Training auf allen Daten)"
   ]
  },
  {
   "cell_type": "code",
   "execution_count": null,
   "metadata": {},
   "outputs": [],
   "source": [
    "trainer_yamnet = Train(YamnetTransferModel(), nn.BCELoss(), dataset=\"WAV\")"
   ]
  },
  {
   "cell_type": "code",
   "execution_count": null,
   "metadata": {},
   "outputs": [],
   "source": [
    "model_name = 'model_20240923_151237_0'\n",
    "\n",
    "checkpoint_path = '../../models/final/' + model_name + '_checkpoint.pt'\n",
    "model = YamnetTransferModel()\n",
    "optimizer = torch.optim.Adam(model.parameters(), lr=0.0001)\n",
    "model_loaded, optimizer, start_epoch, train_samples, val_samples, test_samples = trainer_yamnet.load_model(checkpoint_path, model, optimizer)\n",
    "model = model_loaded"
   ]
  },
  {
   "cell_type": "code",
   "execution_count": null,
   "metadata": {},
   "outputs": [],
   "source": [
    "model.eval()\n",
    "\n",
    "labels_test = []\n",
    "predictions_test = []\n",
    "\n",
    "with torch.no_grad():\n",
    "    device = \"cuda\" if torch.cuda.is_available() else \"cpu\"\n",
    "    print(f\"Evaluation will happen on {device}.\")\n",
    "    model.to(device)\n",
    "\n",
    "    for vdata in tqdm(trainer_yamnet.test_dataloader):\n",
    "        vinputs, vlabels = vdata\n",
    "        vinputs, vlabels = vinputs.to(device), vlabels.to(device)\n",
    "        voutputs = model(vinputs)\n",
    "        labels_test.extend(vlabels)\n",
    "        predictions_test.extend(voutputs)\n",
    "\n",
    "labels_test = torch.stack(labels_test)\n",
    "predictions_test = torch.stack(predictions_test)\n",
    "\n",
    "print(labels_test.shape)"
   ]
  },
  {
   "cell_type": "code",
   "execution_count": null,
   "metadata": {},
   "outputs": [],
   "source": [
    "conf_matr = confusion_matrix(labels_test.cpu().numpy(), predictions_test.cpu().numpy().squeeze().round())\n",
    "plt = sb.heatmap(conf_matr, annot=True, fmt='d')\n",
    "plt.set_xlabel(\"Predicted\")\n",
    "plt.set_ylabel(\"Actual\")\n",
    "plt.set_title(\"Confusion Matrix: Trainiertes Transfer Learning Modell (auf allen Daten)\")\n",
    "plt"
   ]
  },
  {
   "cell_type": "code",
   "execution_count": null,
   "metadata": {},
   "outputs": [],
   "source": [
    "print(classification_report(labels_test.cpu().numpy(), predictions_test.cpu().numpy().squeeze().round()))"
   ]
  },
  {
   "cell_type": "code",
   "execution_count": null,
   "metadata": {},
   "outputs": [],
   "source": [
    "predictions_test_array = predictions_test[:, np.newaxis]\n",
    "labels_test_array = labels_test[:, np.newaxis]"
   ]
  },
  {
   "cell_type": "code",
   "execution_count": null,
   "metadata": {},
   "outputs": [],
   "source": [
    "model_evaluation.plot_roc_curves(labels_test_array, predictions_test_array, classes=[\"label\"], title=\"ROC-Kurve für Vorhersage \\n der Anwesenheit einer Königin (Transfer Learning)\")"
   ]
  }
 ],
 "metadata": {
  "kernelspec": {
   "display_name": "venv",
   "language": "python",
   "name": "python3"
  },
  "language_info": {
   "codemirror_mode": {
    "name": "ipython",
    "version": 3
   },
   "file_extension": ".py",
   "mimetype": "text/x-python",
   "name": "python",
   "nbconvert_exporter": "python",
   "pygments_lexer": "ipython3",
   "version": "3.11.1"
  }
 },
 "nbformat": 4,
 "nbformat_minor": 2
}
