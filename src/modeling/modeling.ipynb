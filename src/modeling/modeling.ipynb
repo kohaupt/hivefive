{
 "cells": [
  {
   "cell_type": "code",
   "execution_count": 1,
   "metadata": {},
   "outputs": [],
   "source": [
    "from tqdm import tqdm\n",
    "import torch\n",
    "import torch.nn as nn\n",
    "import torch.nn.functional as F\n",
    "from sklearn.model_selection import train_test_split\n",
    "import numpy as np\n",
    "import pandas as pd"
   ]
  },
  {
   "cell_type": "code",
   "execution_count": 2,
   "metadata": {},
   "outputs": [],
   "source": [
    "from hive_dataset import HiveDataset\n",
    "from train import Train\n",
    "from model import CNNModel"
   ]
  },
  {
   "cell_type": "code",
   "execution_count": 3,
   "metadata": {},
   "outputs": [],
   "source": [
    "# Allow imports from the src directory\n",
    "import sys\n",
    "import os\n",
    "from pathlib import Path\n",
    "sys.path.append(\n",
    "    str(Path(os.path.dirname(os.path.abspath(os.path.abspath('')))).parents[0]))\n",
    "import config"
   ]
  },
  {
   "cell_type": "code",
   "execution_count": 4,
   "metadata": {},
   "outputs": [
    {
     "data": {
      "text/html": [
       "<div>\n",
       "<style scoped>\n",
       "    .dataframe tbody tr th:only-of-type {\n",
       "        vertical-align: middle;\n",
       "    }\n",
       "\n",
       "    .dataframe tbody tr th {\n",
       "        vertical-align: top;\n",
       "    }\n",
       "\n",
       "    .dataframe thead th {\n",
       "        text-align: right;\n",
       "    }\n",
       "</style>\n",
       "<table border=\"1\" class=\"dataframe\">\n",
       "  <thead>\n",
       "    <tr style=\"text-align: right;\">\n",
       "      <th></th>\n",
       "      <th>sample_name</th>\n",
       "      <th>label</th>\n",
       "      <th>hive_number</th>\n",
       "      <th>segment</th>\n",
       "    </tr>\n",
       "  </thead>\n",
       "  <tbody>\n",
       "    <tr>\n",
       "      <th>0</th>\n",
       "      <td>Hive1 12_06_2018_QueenBee____00_00_00</td>\n",
       "      <td>0</td>\n",
       "      <td>1</td>\n",
       "      <td>Hive1 12_06_2018_QueenBee____00_00_00__segment0</td>\n",
       "    </tr>\n",
       "    <tr>\n",
       "      <th>1</th>\n",
       "      <td>Hive1 12_06_2018_QueenBee____00_00_00</td>\n",
       "      <td>0</td>\n",
       "      <td>1</td>\n",
       "      <td>Hive1 12_06_2018_QueenBee____00_00_00__segment1</td>\n",
       "    </tr>\n",
       "    <tr>\n",
       "      <th>2</th>\n",
       "      <td>Hive1 12_06_2018_QueenBee____00_00_00</td>\n",
       "      <td>0</td>\n",
       "      <td>1</td>\n",
       "      <td>Hive1 12_06_2018_QueenBee____00_00_00__segment2</td>\n",
       "    </tr>\n",
       "    <tr>\n",
       "      <th>3</th>\n",
       "      <td>Hive1 12_06_2018_QueenBee____00_00_00</td>\n",
       "      <td>0</td>\n",
       "      <td>1</td>\n",
       "      <td>Hive1 12_06_2018_QueenBee____00_00_00__segment3</td>\n",
       "    </tr>\n",
       "    <tr>\n",
       "      <th>4</th>\n",
       "      <td>Hive1 12_06_2018_QueenBee____00_00_00</td>\n",
       "      <td>0</td>\n",
       "      <td>1</td>\n",
       "      <td>Hive1 12_06_2018_QueenBee____00_00_00__segment4</td>\n",
       "    </tr>\n",
       "  </tbody>\n",
       "</table>\n",
       "</div>"
      ],
      "text/plain": [
       "                             sample_name label hive_number  \\\n",
       "0  Hive1 12_06_2018_QueenBee____00_00_00     0           1   \n",
       "1  Hive1 12_06_2018_QueenBee____00_00_00     0           1   \n",
       "2  Hive1 12_06_2018_QueenBee____00_00_00     0           1   \n",
       "3  Hive1 12_06_2018_QueenBee____00_00_00     0           1   \n",
       "4  Hive1 12_06_2018_QueenBee____00_00_00     0           1   \n",
       "\n",
       "                                           segment  \n",
       "0  Hive1 12_06_2018_QueenBee____00_00_00__segment0  \n",
       "1  Hive1 12_06_2018_QueenBee____00_00_00__segment1  \n",
       "2  Hive1 12_06_2018_QueenBee____00_00_00__segment2  \n",
       "3  Hive1 12_06_2018_QueenBee____00_00_00__segment3  \n",
       "4  Hive1 12_06_2018_QueenBee____00_00_00__segment4  "
      ]
     },
     "execution_count": 4,
     "metadata": {},
     "output_type": "execute_result"
    }
   ],
   "source": [
    "metadata = np.load(config.PROCESSED_METADATA_FILE_SEGMENTED, allow_pickle=True)\n",
    "\n",
    "metadata_column_names = ['sample_name', \"label\", \"hive_number\", \"segment\",]\n",
    "metadata_df = pd.DataFrame(metadata, columns=metadata_column_names)\n",
    "\n",
    "metadata_df.head()"
   ]
  },
  {
   "cell_type": "code",
   "execution_count": 5,
   "metadata": {},
   "outputs": [
    {
     "name": "stdout",
     "output_type": "stream",
     "text": [
      "=================================================================\n",
      "Layer (type:depth-idx)                   Param #\n",
      "=================================================================\n",
      "CNNModel                                 --\n",
      "├─Conv2d: 1-1                            160\n",
      "├─Conv2d: 1-2                            4,640\n",
      "├─Conv2d: 1-3                            18,496\n",
      "├─Conv2d: 1-4                            73,856\n",
      "├─MaxPool2d: 1-5                         --\n",
      "├─Flatten: 1-6                           --\n",
      "├─Linear: 1-7                            1,130,560\n",
      "├─Linear: 1-8                            65\n",
      "=================================================================\n",
      "Total params: 1,227,777\n",
      "Trainable params: 1,227,777\n",
      "Non-trainable params: 0\n",
      "=================================================================\n"
     ]
    }
   ],
   "source": [
    "trainer = Train(CNNModel(), nn.BCELoss())"
   ]
  },
  {
   "cell_type": "code",
   "execution_count": 6,
   "metadata": {},
   "outputs": [
    {
     "name": "stdout",
     "output_type": "stream",
     "text": [
      "Training will happen on cuda.\n",
      "EPOCH 1\n"
     ]
    },
    {
     "name": "stderr",
     "output_type": "stream",
     "text": [
      "  0%|          | 0/125 [00:00<?, ?it/s]"
     ]
    },
    {
     "name": "stderr",
     "output_type": "stream",
     "text": [
      "100%|██████████| 125/125 [02:36<00:00,  1.26s/it]\n"
     ]
    },
    {
     "name": "stdout",
     "output_type": "stream",
     "text": [
      "LOSS train: 0.686, val: 0.609\n",
      "EPOCH 2\n"
     ]
    },
    {
     "name": "stderr",
     "output_type": "stream",
     "text": [
      "100%|██████████| 125/125 [02:59<00:00,  1.44s/it]\n"
     ]
    },
    {
     "name": "stdout",
     "output_type": "stream",
     "text": [
      "LOSS train: 0.629, val: 0.518\n",
      "EPOCH 3\n"
     ]
    },
    {
     "name": "stderr",
     "output_type": "stream",
     "text": [
      "100%|██████████| 125/125 [03:10<00:00,  1.53s/it]\n"
     ]
    },
    {
     "name": "stdout",
     "output_type": "stream",
     "text": [
      "LOSS train: 0.538, val: 0.461\n",
      "EPOCH 4\n"
     ]
    },
    {
     "name": "stderr",
     "output_type": "stream",
     "text": [
      "100%|██████████| 125/125 [03:14<00:00,  1.56s/it]\n"
     ]
    },
    {
     "name": "stdout",
     "output_type": "stream",
     "text": [
      "LOSS train: 0.469, val: 0.393\n",
      "EPOCH 5\n"
     ]
    },
    {
     "name": "stderr",
     "output_type": "stream",
     "text": [
      "100%|██████████| 125/125 [03:07<00:00,  1.50s/it]\n"
     ]
    },
    {
     "name": "stdout",
     "output_type": "stream",
     "text": [
      "LOSS train: 0.385, val: 0.307\n",
      "EPOCH 6\n"
     ]
    },
    {
     "name": "stderr",
     "output_type": "stream",
     "text": [
      "100%|██████████| 125/125 [03:14<00:00,  1.56s/it]\n"
     ]
    },
    {
     "name": "stdout",
     "output_type": "stream",
     "text": [
      "LOSS train: 0.310, val: 0.222\n",
      "EPOCH 7\n"
     ]
    },
    {
     "name": "stderr",
     "output_type": "stream",
     "text": [
      "100%|██████████| 125/125 [03:08<00:00,  1.51s/it]\n"
     ]
    },
    {
     "name": "stdout",
     "output_type": "stream",
     "text": [
      "LOSS train: 0.245, val: 0.217\n",
      "EPOCH 8\n"
     ]
    },
    {
     "name": "stderr",
     "output_type": "stream",
     "text": [
      "100%|██████████| 125/125 [03:14<00:00,  1.55s/it]\n"
     ]
    },
    {
     "name": "stdout",
     "output_type": "stream",
     "text": [
      "LOSS train: 0.194, val: 0.194\n",
      "EPOCH 9\n"
     ]
    },
    {
     "name": "stderr",
     "output_type": "stream",
     "text": [
      "100%|██████████| 125/125 [03:07<00:00,  1.50s/it]\n"
     ]
    },
    {
     "name": "stdout",
     "output_type": "stream",
     "text": [
      "LOSS train: 0.153, val: 0.179\n",
      "EPOCH 10\n"
     ]
    },
    {
     "name": "stderr",
     "output_type": "stream",
     "text": [
      "100%|██████████| 125/125 [03:14<00:00,  1.55s/it]\n"
     ]
    },
    {
     "name": "stdout",
     "output_type": "stream",
     "text": [
      "LOSS train: 0.125, val: 0.125\n",
      "EPOCH 11\n"
     ]
    },
    {
     "name": "stderr",
     "output_type": "stream",
     "text": [
      "100%|██████████| 125/125 [03:08<00:00,  1.51s/it]\n"
     ]
    },
    {
     "name": "stdout",
     "output_type": "stream",
     "text": [
      "LOSS train: 0.114, val: 0.125\n",
      "EPOCH 12\n"
     ]
    },
    {
     "name": "stderr",
     "output_type": "stream",
     "text": [
      "100%|██████████| 125/125 [03:14<00:00,  1.56s/it]\n"
     ]
    },
    {
     "name": "stdout",
     "output_type": "stream",
     "text": [
      "LOSS train: 0.093, val: 0.112\n",
      "EPOCH 13\n"
     ]
    },
    {
     "name": "stderr",
     "output_type": "stream",
     "text": [
      "100%|██████████| 125/125 [03:07<00:00,  1.50s/it]\n"
     ]
    },
    {
     "name": "stdout",
     "output_type": "stream",
     "text": [
      "LOSS train: 0.089, val: 0.123\n",
      "EPOCH 14\n"
     ]
    },
    {
     "name": "stderr",
     "output_type": "stream",
     "text": [
      "100%|██████████| 125/125 [03:13<00:00,  1.55s/it]\n"
     ]
    },
    {
     "name": "stdout",
     "output_type": "stream",
     "text": [
      "LOSS train: 0.073, val: 0.070\n",
      "EPOCH 15\n"
     ]
    },
    {
     "name": "stderr",
     "output_type": "stream",
     "text": [
      "100%|██████████| 125/125 [03:07<00:00,  1.50s/it]\n"
     ]
    },
    {
     "name": "stdout",
     "output_type": "stream",
     "text": [
      "LOSS train: 0.064, val: 0.091\n",
      "EPOCH 16\n"
     ]
    },
    {
     "name": "stderr",
     "output_type": "stream",
     "text": [
      "100%|██████████| 125/125 [03:13<00:00,  1.55s/it]\n"
     ]
    },
    {
     "name": "stdout",
     "output_type": "stream",
     "text": [
      "LOSS train: 0.063, val: 0.057\n",
      "EPOCH 17\n"
     ]
    },
    {
     "name": "stderr",
     "output_type": "stream",
     "text": [
      "100%|██████████| 125/125 [03:08<00:00,  1.51s/it]\n"
     ]
    },
    {
     "name": "stdout",
     "output_type": "stream",
     "text": [
      "LOSS train: 0.053, val: 0.088\n",
      "EPOCH 18\n"
     ]
    },
    {
     "name": "stderr",
     "output_type": "stream",
     "text": [
      "100%|██████████| 125/125 [03:12<00:00,  1.54s/it]\n"
     ]
    },
    {
     "name": "stdout",
     "output_type": "stream",
     "text": [
      "LOSS train: 0.050, val: 0.103\n",
      "EPOCH 19\n"
     ]
    },
    {
     "name": "stderr",
     "output_type": "stream",
     "text": [
      "100%|██████████| 125/125 [03:10<00:00,  1.53s/it]\n"
     ]
    },
    {
     "name": "stdout",
     "output_type": "stream",
     "text": [
      "LOSS train: 0.045, val: 0.076\n",
      "EPOCH 20\n"
     ]
    },
    {
     "name": "stderr",
     "output_type": "stream",
     "text": [
      "100%|██████████| 125/125 [03:22<00:00,  1.62s/it]\n"
     ]
    },
    {
     "name": "stdout",
     "output_type": "stream",
     "text": [
      "LOSS train: 0.041, val: 0.084\n"
     ]
    }
   ],
   "source": [
    "trainer.train_cnn(epochs=20)"
   ]
  },
  {
   "cell_type": "code",
   "execution_count": 7,
   "metadata": {},
   "outputs": [],
   "source": [
    "checkpoint_path = '../../models/interim/model_20240804_182006_15_checkpoint.pt'\n",
    "model = CNNModel()\n",
    "optimizer = torch.optim.Adam(model.parameters(), lr=0.0001)\n",
    "\n",
    "model_loaded, optimizer, start_epoch, train_samples, val_samples, test_samples = trainer.load_model(checkpoint_path, model, optimizer)"
   ]
  },
  {
   "cell_type": "code",
   "execution_count": 8,
   "metadata": {},
   "outputs": [
    {
     "data": {
      "text/plain": [
       "CNNModel(\n",
       "  (conv1): Conv2d(1, 16, kernel_size=(3, 3), stride=(1, 1))\n",
       "  (conv2): Conv2d(16, 32, kernel_size=(3, 3), stride=(1, 1))\n",
       "  (conv3): Conv2d(32, 64, kernel_size=(3, 3), stride=(1, 1))\n",
       "  (conv4): Conv2d(64, 128, kernel_size=(3, 3), stride=(1, 1))\n",
       "  (pool): MaxPool2d(kernel_size=2, stride=2, padding=0, dilation=1, ceil_mode=False)\n",
       "  (flatten): Flatten(start_dim=1, end_dim=-1)\n",
       "  (fc1): Linear(in_features=17664, out_features=64, bias=True)\n",
       "  (fc2): Linear(in_features=64, out_features=1, bias=True)\n",
       ")"
      ]
     },
     "execution_count": 8,
     "metadata": {},
     "output_type": "execute_result"
    }
   ],
   "source": [
    "model_loaded"
   ]
  },
  {
   "cell_type": "code",
   "execution_count": 9,
   "metadata": {},
   "outputs": [
    {
     "data": {
      "text/plain": [
       "Adam (\n",
       "Parameter Group 0\n",
       "    amsgrad: False\n",
       "    betas: (0.9, 0.999)\n",
       "    capturable: False\n",
       "    differentiable: False\n",
       "    eps: 1e-08\n",
       "    foreach: None\n",
       "    fused: None\n",
       "    lr: 0.0001\n",
       "    maximize: False\n",
       "    weight_decay: 0\n",
       ")"
      ]
     },
     "execution_count": 9,
     "metadata": {},
     "output_type": "execute_result"
    }
   ],
   "source": [
    "optimizer"
   ]
  },
  {
   "cell_type": "code",
   "execution_count": 10,
   "metadata": {},
   "outputs": [
    {
     "data": {
      "text/plain": [
       "15"
      ]
     },
     "execution_count": 10,
     "metadata": {},
     "output_type": "execute_result"
    }
   ],
   "source": [
    "start_epoch"
   ]
  },
  {
   "cell_type": "code",
   "execution_count": 11,
   "metadata": {},
   "outputs": [
    {
     "data": {
      "text/plain": [
       "(array(['Hive1 31_05_2018_NO_QueenBee____00_50_00',\n",
       "        'Hive1 12_06_2018_QueenBee____20_40_00',\n",
       "        'Hive3_28_07_2017_QueenBee____00_00_00',\n",
       "        'Hive1 31_05_2018_NO_QueenBee____09_00_00',\n",
       "        'Hive1 31_05_2018_NO_QueenBee____20_40_00',\n",
       "        'Hive3_28_07_2017_QueenBee____03_20_00',\n",
       "        'Hive3_28_07_2017_QueenBee____16_00_00',\n",
       "        'Hive3_14_07_2017_NO_QueenBee____20_20_00',\n",
       "        'Hive3_14_07_2017_NO_QueenBee____08_10_00',\n",
       "        'Hive3_28_07_2017_QueenBee____16_20_00',\n",
       "        'Hive3_28_07_2017_QueenBee____06_50_00',\n",
       "        'Hive1 12_06_2018_QueenBee____19_00_00',\n",
       "        'Hive1 12_06_2018_QueenBee____23_30_00',\n",
       "        'Hive3_14_07_2017_NO_QueenBee____04_00_00',\n",
       "        'Hive1 12_06_2018_QueenBee____01_10_00',\n",
       "        'Hive3_28_07_2017_QueenBee____19_00_00',\n",
       "        'Hive1 12_06_2018_QueenBee____03_10_00',\n",
       "        'Hive1 31_05_2018_NO_QueenBee____04_50_00',\n",
       "        'Hive3_14_07_2017_NO_QueenBee____21_40_00',\n",
       "        'Hive1 12_06_2018_QueenBee____09_20_00',\n",
       "        'Hive1 31_05_2018_NO_QueenBee____22_20_00',\n",
       "        'Hive3_14_07_2017_NO_QueenBee____05_40_00',\n",
       "        'Hive3_14_07_2017_NO_QueenBee____21_30_00',\n",
       "        'Hive3_14_07_2017_NO_QueenBee____13_10_00',\n",
       "        'Hive3_14_07_2017_NO_QueenBee____17_10_00',\n",
       "        'Hive1 12_06_2018_QueenBee____08_10_00',\n",
       "        'Hive3_14_07_2017_NO_QueenBee____22_20_00',\n",
       "        'Hive1 12_06_2018_QueenBee____04_10_00',\n",
       "        'Hive3_14_07_2017_NO_QueenBee____22_40_00',\n",
       "        'Hive3_14_07_2017_NO_QueenBee____13_40_00',\n",
       "        'Hive1 31_05_2018_NO_QueenBee____21_40_00',\n",
       "        'Hive1 12_06_2018_QueenBee____07_00_00',\n",
       "        'Hive3_14_07_2017_NO_QueenBee____16_00_00',\n",
       "        'Hive1 31_05_2018_NO_QueenBee____14_20_00',\n",
       "        'Hive3_28_07_2017_QueenBee____19_30_00',\n",
       "        'Hive3_14_07_2017_NO_QueenBee____08_50_00',\n",
       "        'Hive3_14_07_2017_NO_QueenBee____10_40_00',\n",
       "        'Hive1 31_05_2018_NO_QueenBee____01_50_00',\n",
       "        'Hive1 12_06_2018_QueenBee____21_00_00',\n",
       "        'Hive1 31_05_2018_NO_QueenBee____23_20_00',\n",
       "        'Hive3_14_07_2017_NO_QueenBee____14_40_00',\n",
       "        'Hive3_28_07_2017_QueenBee____10_30_00',\n",
       "        'Hive1 31_05_2018_NO_QueenBee____05_10_00',\n",
       "        'Hive1 12_06_2018_QueenBee____05_10_00',\n",
       "        'Hive1 12_06_2018_QueenBee____18_50_00',\n",
       "        'Hive3_14_07_2017_NO_QueenBee____20_50_00',\n",
       "        'Hive1 31_05_2018_NO_QueenBee____05_00_00',\n",
       "        'Hive3_14_07_2017_NO_QueenBee____00_20_00',\n",
       "        'Hive1 31_05_2018_NO_QueenBee____14_10_00',\n",
       "        'Hive1 12_06_2018_QueenBee____09_30_00',\n",
       "        'Hive3_28_07_2017_QueenBee____11_10_00',\n",
       "        'Hive1 31_05_2018_NO_QueenBee____13_20_00',\n",
       "        'Hive1 12_06_2018_QueenBee____04_00_00',\n",
       "        'Hive1 12_06_2018_QueenBee____02_50_00',\n",
       "        'Hive3_28_07_2017_QueenBee____17_30_00',\n",
       "        'Hive1 12_06_2018_QueenBee____11_00_00',\n",
       "        'Hive1 31_05_2018_NO_QueenBee____22_40_00',\n",
       "        'Hive3_28_07_2017_QueenBee____12_20_00',\n",
       "        'Hive3_14_07_2017_NO_QueenBee____02_40_00',\n",
       "        'Hive3_28_07_2017_QueenBee____11_40_00',\n",
       "        'Hive1 31_05_2018_NO_QueenBee____07_50_00',\n",
       "        'Hive3_14_07_2017_NO_QueenBee____00_50_00',\n",
       "        'Hive3_14_07_2017_NO_QueenBee____23_50_00',\n",
       "        'Hive3_28_07_2017_QueenBee____10_00_00',\n",
       "        'Hive3_28_07_2017_QueenBee____08_20_00',\n",
       "        'Hive1 12_06_2018_QueenBee____15_40_00',\n",
       "        'Hive1 31_05_2018_NO_QueenBee____06_10_00',\n",
       "        'Hive1 31_05_2018_NO_QueenBee____17_50_00',\n",
       "        'Hive3_14_07_2017_NO_QueenBee____23_30_00',\n",
       "        'Hive1 12_06_2018_QueenBee____15_20_00',\n",
       "        'Hive1 12_06_2018_QueenBee____03_50_00',\n",
       "        'Hive3_14_07_2017_NO_QueenBee____02_50_00',\n",
       "        'Hive3_14_07_2017_NO_QueenBee____02_20_00',\n",
       "        'Hive3_14_07_2017_NO_QueenBee____07_10_00',\n",
       "        'Hive3_14_07_2017_NO_QueenBee____19_30_00',\n",
       "        'Hive1 12_06_2018_QueenBee____00_50_00',\n",
       "        'Hive1 12_06_2018_QueenBee____19_20_00',\n",
       "        'Hive1 12_06_2018_QueenBee____07_30_00',\n",
       "        'Hive1 31_05_2018_NO_QueenBee____13_00_00',\n",
       "        'Hive1 31_05_2018_NO_QueenBee____21_10_00',\n",
       "        'Hive3_14_07_2017_NO_QueenBee____11_40_00',\n",
       "        'Hive3_14_07_2017_NO_QueenBee____18_10_00',\n",
       "        'Hive1 12_06_2018_QueenBee____02_40_00',\n",
       "        'Hive1 31_05_2018_NO_QueenBee____18_50_00',\n",
       "        'Hive1 12_06_2018_QueenBee____08_00_00',\n",
       "        'Hive3_28_07_2017_QueenBee____20_30_00',\n",
       "        'Hive3_28_07_2017_QueenBee____03_10_00',\n",
       "        'Hive1 12_06_2018_QueenBee____00_30_00',\n",
       "        'Hive3_28_07_2017_QueenBee____19_50_00',\n",
       "        'Hive3_14_07_2017_NO_QueenBee____18_30_00',\n",
       "        'Hive1 31_05_2018_NO_QueenBee____13_50_00',\n",
       "        'Hive1 12_06_2018_QueenBee____04_20_00',\n",
       "        'Hive1 31_05_2018_NO_QueenBee____20_10_00',\n",
       "        'Hive1 12_06_2018_QueenBee____08_20_00',\n",
       "        'Hive1 31_05_2018_NO_QueenBee____14_30_00',\n",
       "        'Hive1 12_06_2018_QueenBee____06_10_00',\n",
       "        'Hive1 31_05_2018_NO_QueenBee____02_20_00',\n",
       "        'Hive1 31_05_2018_NO_QueenBee____15_50_00',\n",
       "        'Hive3_28_07_2017_QueenBee____19_40_00',\n",
       "        'Hive1 31_05_2018_NO_QueenBee____05_20_00',\n",
       "        'Hive3_28_07_2017_QueenBee____22_10_00',\n",
       "        'Hive3_14_07_2017_NO_QueenBee____05_30_00',\n",
       "        'Hive1 31_05_2018_NO_QueenBee____08_40_00',\n",
       "        'Hive3_28_07_2017_QueenBee____05_40_00',\n",
       "        'Hive1 12_06_2018_QueenBee____11_10_00',\n",
       "        'Hive3_14_07_2017_NO_QueenBee____01_00_00',\n",
       "        'Hive1 31_05_2018_NO_QueenBee____04_10_00',\n",
       "        'Hive3_14_07_2017_NO_QueenBee____01_50_00',\n",
       "        'Hive3_28_07_2017_QueenBee____14_20_00',\n",
       "        'Hive1 31_05_2018_NO_QueenBee____08_30_00',\n",
       "        'Hive1 31_05_2018_NO_QueenBee____01_20_00',\n",
       "        'Hive3_14_07_2017_NO_QueenBee____02_10_00',\n",
       "        'Hive3_28_07_2017_QueenBee____21_20_00',\n",
       "        'Hive3_28_07_2017_QueenBee____03_00_00',\n",
       "        'Hive3_14_07_2017_NO_QueenBee____03_10_00',\n",
       "        'Hive1 12_06_2018_QueenBee____17_10_00',\n",
       "        'Hive3_14_07_2017_NO_QueenBee____16_20_00',\n",
       "        'Hive1 12_06_2018_QueenBee____12_20_00',\n",
       "        'Hive3_14_07_2017_NO_QueenBee____16_50_00',\n",
       "        'Hive3_28_07_2017_QueenBee____20_10_00',\n",
       "        'Hive1 12_06_2018_QueenBee____19_50_00',\n",
       "        'Hive3_14_07_2017_NO_QueenBee____11_30_00',\n",
       "        'Hive3_14_07_2017_NO_QueenBee____14_50_00',\n",
       "        'Hive3_28_07_2017_QueenBee____02_30_00',\n",
       "        'Hive3_28_07_2017_QueenBee____11_30_00',\n",
       "        'Hive3_14_07_2017_NO_QueenBee____06_10_00',\n",
       "        'Hive3_14_07_2017_NO_QueenBee____04_30_00',\n",
       "        'Hive3_14_07_2017_NO_QueenBee____14_10_00',\n",
       "        'Hive3_28_07_2017_QueenBee____08_30_00',\n",
       "        'Hive3_28_07_2017_QueenBee____00_40_00',\n",
       "        'Hive1 12_06_2018_QueenBee____06_00_00',\n",
       "        'Hive1 12_06_2018_QueenBee____23_10_00',\n",
       "        'Hive1 31_05_2018_NO_QueenBee____18_30_00',\n",
       "        'Hive3_28_07_2017_QueenBee____13_00_00',\n",
       "        'Hive3_14_07_2017_NO_QueenBee____12_00_00',\n",
       "        'Hive1 12_06_2018_QueenBee____09_50_00',\n",
       "        'Hive1 12_06_2018_QueenBee____18_30_00',\n",
       "        'Hive3_14_07_2017_NO_QueenBee____07_40_00',\n",
       "        'Hive3_14_07_2017_NO_QueenBee____11_20_00',\n",
       "        'Hive1 31_05_2018_NO_QueenBee____20_00_00',\n",
       "        'Hive3_28_07_2017_QueenBee____03_50_00',\n",
       "        'Hive3_14_07_2017_NO_QueenBee____02_00_00',\n",
       "        'Hive1 31_05_2018_NO_QueenBee____01_00_00',\n",
       "        'Hive1 31_05_2018_NO_QueenBee____20_50_00',\n",
       "        'Hive3_28_07_2017_QueenBee____08_10_00',\n",
       "        'Hive1 12_06_2018_QueenBee____06_20_00',\n",
       "        'Hive3_14_07_2017_NO_QueenBee____18_20_00',\n",
       "        'Hive3_14_07_2017_NO_QueenBee____03_40_00',\n",
       "        'Hive1 31_05_2018_NO_QueenBee____09_20_00',\n",
       "        'Hive3_14_07_2017_NO_QueenBee____08_20_00',\n",
       "        'Hive1 31_05_2018_NO_QueenBee____00_20_00',\n",
       "        'Hive3_28_07_2017_QueenBee____10_10_00',\n",
       "        'Hive1 31_05_2018_NO_QueenBee____00_30_00',\n",
       "        'Hive3_14_07_2017_NO_QueenBee____17_30_00',\n",
       "        'Hive3_14_07_2017_NO_QueenBee____06_40_00',\n",
       "        'Hive3_28_07_2017_QueenBee____03_30_00',\n",
       "        'Hive1 12_06_2018_QueenBee____20_30_00',\n",
       "        'Hive3_28_07_2017_QueenBee____05_30_00',\n",
       "        'Hive1 12_06_2018_QueenBee____16_00_00',\n",
       "        'Hive1 12_06_2018_QueenBee____23_50_00',\n",
       "        'Hive1 31_05_2018_NO_QueenBee____16_10_00',\n",
       "        'Hive3_28_07_2017_QueenBee____08_50_00',\n",
       "        'Hive1 12_06_2018_QueenBee____16_10_00',\n",
       "        'Hive3_14_07_2017_NO_QueenBee____06_30_00',\n",
       "        'Hive3_28_07_2017_QueenBee____10_40_00',\n",
       "        'Hive3_14_07_2017_NO_QueenBee____01_20_00',\n",
       "        'Hive3_28_07_2017_QueenBee____01_50_00',\n",
       "        'Hive1 12_06_2018_QueenBee____20_20_00',\n",
       "        'Hive1 31_05_2018_NO_QueenBee____06_40_00',\n",
       "        'Hive1 31_05_2018_NO_QueenBee____10_00_00',\n",
       "        'Hive3_14_07_2017_NO_QueenBee____06_20_00',\n",
       "        'Hive1 31_05_2018_NO_QueenBee____17_20_00',\n",
       "        'Hive3_14_07_2017_NO_QueenBee____16_10_00',\n",
       "        'Hive3_28_07_2017_QueenBee____21_50_00',\n",
       "        'Hive3_28_07_2017_QueenBee____02_00_00',\n",
       "        'Hive3_14_07_2017_NO_QueenBee____15_00_00',\n",
       "        'Hive3_28_07_2017_QueenBee____10_50_00',\n",
       "        'Hive3_14_07_2017_NO_QueenBee____11_50_00',\n",
       "        'Hive1 12_06_2018_QueenBee____20_50_00',\n",
       "        'Hive3_28_07_2017_QueenBee____06_30_00',\n",
       "        'Hive1 31_05_2018_NO_QueenBee____13_30_00',\n",
       "        'Hive3_14_07_2017_NO_QueenBee____09_30_00',\n",
       "        'Hive1 12_06_2018_QueenBee____08_50_00',\n",
       "        'Hive1 31_05_2018_NO_QueenBee____12_50_00',\n",
       "        'Hive1 12_06_2018_QueenBee____21_30_00',\n",
       "        'Hive3_28_07_2017_QueenBee____14_50_00',\n",
       "        'Hive3_14_07_2017_NO_QueenBee____12_40_00',\n",
       "        'Hive3_14_07_2017_NO_QueenBee____21_00_00',\n",
       "        'Hive3_28_07_2017_QueenBee____07_20_00',\n",
       "        'Hive3_14_07_2017_NO_QueenBee____13_00_00',\n",
       "        'Hive3_28_07_2017_QueenBee____02_50_00',\n",
       "        'Hive3_14_07_2017_NO_QueenBee____13_50_00',\n",
       "        'Hive3_14_07_2017_NO_QueenBee____01_30_00',\n",
       "        'Hive3_28_07_2017_QueenBee____05_10_00',\n",
       "        'Hive3_14_07_2017_NO_QueenBee____23_20_00',\n",
       "        'Hive3_14_07_2017_NO_QueenBee____15_50_00',\n",
       "        'Hive1 12_06_2018_QueenBee____18_40_00',\n",
       "        'Hive1 31_05_2018_NO_QueenBee____06_00_00',\n",
       "        'Hive3_28_07_2017_QueenBee____20_40_00',\n",
       "        'Hive3_14_07_2017_NO_QueenBee____23_10_00',\n",
       "        'Hive3_28_07_2017_QueenBee____20_50_00',\n",
       "        'Hive3_14_07_2017_NO_QueenBee____04_50_00',\n",
       "        'Hive1 31_05_2018_NO_QueenBee____01_10_00',\n",
       "        'Hive3_28_07_2017_QueenBee____03_40_00',\n",
       "        'Hive1 31_05_2018_NO_QueenBee____15_10_00',\n",
       "        'Hive3_14_07_2017_NO_QueenBee____03_30_00',\n",
       "        'Hive3_28_07_2017_QueenBee____07_10_00',\n",
       "        'Hive1 31_05_2018_NO_QueenBee____03_30_00',\n",
       "        'Hive3_14_07_2017_NO_QueenBee____05_20_00',\n",
       "        'Hive1 12_06_2018_QueenBee____22_40_00',\n",
       "        'Hive1 31_05_2018_NO_QueenBee____09_10_00',\n",
       "        'Hive3_28_07_2017_QueenBee____01_30_00',\n",
       "        'Hive1 31_05_2018_NO_QueenBee____19_20_00',\n",
       "        'Hive1 31_05_2018_NO_QueenBee____15_00_00',\n",
       "        'Hive1 12_06_2018_QueenBee____19_10_00',\n",
       "        'Hive1 12_06_2018_QueenBee____20_00_00',\n",
       "        'Hive3_28_07_2017_QueenBee____01_20_00',\n",
       "        'Hive3_14_07_2017_NO_QueenBee____15_10_00',\n",
       "        'Hive3_14_07_2017_NO_QueenBee____16_30_00',\n",
       "        'Hive1 31_05_2018_NO_QueenBee____13_40_00',\n",
       "        'Hive3_28_07_2017_QueenBee____12_00_00',\n",
       "        'Hive3_14_07_2017_NO_QueenBee____22_30_00',\n",
       "        'Hive3_14_07_2017_NO_QueenBee____10_20_00',\n",
       "        'Hive1 12_06_2018_QueenBee____21_10_00',\n",
       "        'Hive3_28_07_2017_QueenBee____22_20_00',\n",
       "        'Hive3_14_07_2017_NO_QueenBee____00_00_00',\n",
       "        'Hive3_28_07_2017_QueenBee____16_30_00',\n",
       "        'Hive1 12_06_2018_QueenBee____07_10_00',\n",
       "        'Hive1 12_06_2018_QueenBee____17_50_00',\n",
       "        'Hive3_28_07_2017_QueenBee____05_50_00',\n",
       "        'Hive3_14_07_2017_NO_QueenBee____20_30_00',\n",
       "        'Hive1 12_06_2018_QueenBee____22_10_00',\n",
       "        'Hive3_28_07_2017_QueenBee____12_40_00',\n",
       "        'Hive1 12_06_2018_QueenBee____07_20_00',\n",
       "        'Hive1 31_05_2018_NO_QueenBee____04_20_00',\n",
       "        'Hive1 12_06_2018_QueenBee____10_50_00',\n",
       "        'Hive1 31_05_2018_NO_QueenBee____23_40_00',\n",
       "        'Hive1 12_06_2018_QueenBee____14_10_00',\n",
       "        'Hive1 31_05_2018_NO_QueenBee____16_40_00',\n",
       "        'Hive1 31_05_2018_NO_QueenBee____07_10_00',\n",
       "        'Hive3_28_07_2017_QueenBee____08_40_00',\n",
       "        'Hive1 31_05_2018_NO_QueenBee____02_40_00',\n",
       "        'Hive1 12_06_2018_QueenBee____02_00_00',\n",
       "        'Hive1 12_06_2018_QueenBee____05_50_00',\n",
       "        'Hive1 12_06_2018_QueenBee____04_40_00',\n",
       "        'Hive1 31_05_2018_NO_QueenBee____04_30_00',\n",
       "        'Hive1 12_06_2018_QueenBee____23_40_00',\n",
       "        'Hive3_28_07_2017_QueenBee____11_20_00',\n",
       "        'Hive3_28_07_2017_QueenBee____15_50_00',\n",
       "        'Hive3_28_07_2017_QueenBee____04_30_00',\n",
       "        'Hive1 31_05_2018_NO_QueenBee____13_10_00',\n",
       "        'Hive3_28_07_2017_QueenBee____15_00_00',\n",
       "        'Hive1 12_06_2018_QueenBee____15_50_00',\n",
       "        'Hive1 12_06_2018_QueenBee____08_30_00',\n",
       "        'Hive1 31_05_2018_NO_QueenBee____16_20_00',\n",
       "        'Hive3_28_07_2017_QueenBee____22_40_00',\n",
       "        'Hive3_14_07_2017_NO_QueenBee____11_00_00',\n",
       "        'Hive3_28_07_2017_QueenBee____18_50_00',\n",
       "        'Hive1 31_05_2018_NO_QueenBee____05_50_00',\n",
       "        'Hive3_28_07_2017_QueenBee____09_50_00',\n",
       "        'Hive1 12_06_2018_QueenBee____06_50_00',\n",
       "        'Hive3_28_07_2017_QueenBee____16_40_00',\n",
       "        'Hive3_28_07_2017_QueenBee____09_20_00',\n",
       "        'Hive1 31_05_2018_NO_QueenBee____10_40_00',\n",
       "        'Hive3_14_07_2017_NO_QueenBee____17_50_00',\n",
       "        'Hive1 31_05_2018_NO_QueenBee____23_30_00',\n",
       "        'Hive3_14_07_2017_NO_QueenBee____12_10_00',\n",
       "        'Hive3_14_07_2017_NO_QueenBee____18_40_00',\n",
       "        'Hive1 31_05_2018_NO_QueenBee____18_40_00',\n",
       "        'Hive1 31_05_2018_NO_QueenBee____12_30_00',\n",
       "        'Hive1 12_06_2018_QueenBee____00_40_00',\n",
       "        'Hive1 31_05_2018_NO_QueenBee____19_00_00',\n",
       "        'Hive3_28_07_2017_QueenBee____18_10_00',\n",
       "        'Hive3_28_07_2017_QueenBee____00_10_00',\n",
       "        'Hive1 12_06_2018_QueenBee____16_40_00',\n",
       "        'Hive1 31_05_2018_NO_QueenBee____14_00_00',\n",
       "        'Hive3_28_07_2017_QueenBee____15_30_00',\n",
       "        'Hive1 31_05_2018_NO_QueenBee____11_50_00',\n",
       "        'Hive3_14_07_2017_NO_QueenBee____12_20_00',\n",
       "        'Hive1 31_05_2018_NO_QueenBee____04_40_00',\n",
       "        'Hive1 12_06_2018_QueenBee____16_20_00',\n",
       "        'Hive3_14_07_2017_NO_QueenBee____01_10_00',\n",
       "        'Hive1 31_05_2018_NO_QueenBee____12_10_00',\n",
       "        'Hive1 12_06_2018_QueenBee____10_10_00',\n",
       "        'Hive3_14_07_2017_NO_QueenBee____20_10_00',\n",
       "        'Hive1 12_06_2018_QueenBee____07_50_00',\n",
       "        'Hive1 12_06_2018_QueenBee____05_20_00',\n",
       "        'Hive3_14_07_2017_NO_QueenBee____22_00_00',\n",
       "        'Hive1 31_05_2018_NO_QueenBee____21_00_00',\n",
       "        'Hive3_14_07_2017_NO_QueenBee____07_00_00',\n",
       "        'Hive1 31_05_2018_NO_QueenBee____09_40_00',\n",
       "        'Hive1 12_06_2018_QueenBee____22_20_00',\n",
       "        'Hive1 12_06_2018_QueenBee____04_30_00',\n",
       "        'Hive3_28_07_2017_QueenBee____09_40_00',\n",
       "        'Hive1 31_05_2018_NO_QueenBee____14_40_00',\n",
       "        'Hive1 31_05_2018_NO_QueenBee____19_40_00',\n",
       "        'Hive3_14_07_2017_NO_QueenBee____15_30_00',\n",
       "        'Hive3_14_07_2017_NO_QueenBee____00_30_00',\n",
       "        'Hive3_14_07_2017_NO_QueenBee____22_10_00',\n",
       "        'Hive1 31_05_2018_NO_QueenBee____03_10_00',\n",
       "        'Hive3_14_07_2017_NO_QueenBee____17_40_00',\n",
       "        'Hive3_28_07_2017_QueenBee____15_10_00',\n",
       "        'Hive1 12_06_2018_QueenBee____23_00_00',\n",
       "        'Hive1 12_06_2018_QueenBee____10_20_00',\n",
       "        'Hive3_28_07_2017_QueenBee____07_00_00',\n",
       "        'Hive1 12_06_2018_QueenBee____22_30_00',\n",
       "        'Hive1 12_06_2018_QueenBee____21_20_00',\n",
       "        'Hive3_28_07_2017_QueenBee____21_10_00',\n",
       "        'Hive1 12_06_2018_QueenBee____01_20_00',\n",
       "        'Hive3_14_07_2017_NO_QueenBee____06_50_00',\n",
       "        'Hive3_14_07_2017_NO_QueenBee____09_50_00',\n",
       "        'Hive1 12_06_2018_QueenBee____10_40_00',\n",
       "        'Hive3_14_07_2017_NO_QueenBee____02_30_00',\n",
       "        'Hive1 12_06_2018_QueenBee____02_20_00',\n",
       "        'Hive1 31_05_2018_NO_QueenBee____02_10_00',\n",
       "        'Hive1 12_06_2018_QueenBee____06_40_00',\n",
       "        'Hive3_14_07_2017_NO_QueenBee____15_40_00',\n",
       "        'Hive1 31_05_2018_NO_QueenBee____07_20_00',\n",
       "        'Hive3_28_07_2017_QueenBee____12_10_00',\n",
       "        'Hive1 31_05_2018_NO_QueenBee____12_20_00',\n",
       "        'Hive3_14_07_2017_NO_QueenBee____20_40_00',\n",
       "        'Hive1 31_05_2018_NO_QueenBee____23_00_00',\n",
       "        'Hive1 12_06_2018_QueenBee____08_40_00',\n",
       "        'Hive3_28_07_2017_QueenBee____16_10_00',\n",
       "        'Hive3_14_07_2017_NO_QueenBee____08_40_00',\n",
       "        'Hive1 31_05_2018_NO_QueenBee____15_40_00',\n",
       "        'Hive1 31_05_2018_NO_QueenBee____10_50_00',\n",
       "        'Hive1 31_05_2018_NO_QueenBee____11_40_00',\n",
       "        'Hive3_14_07_2017_NO_QueenBee____01_40_00',\n",
       "        'Hive3_28_07_2017_QueenBee____18_40_00',\n",
       "        'Hive1 31_05_2018_NO_QueenBee____18_10_00',\n",
       "        'Hive3_28_07_2017_QueenBee____22_30_00',\n",
       "        'Hive3_28_07_2017_QueenBee____05_20_00',\n",
       "        'Hive3_28_07_2017_QueenBee____04_20_00',\n",
       "        'Hive3_28_07_2017_QueenBee____23_30_00',\n",
       "        'Hive3_14_07_2017_NO_QueenBee____03_00_00',\n",
       "        'Hive3_14_07_2017_NO_QueenBee____10_50_00',\n",
       "        'Hive1 31_05_2018_NO_QueenBee____21_20_00',\n",
       "        'Hive3_28_07_2017_QueenBee____09_00_00',\n",
       "        'Hive3_28_07_2017_QueenBee____02_40_00',\n",
       "        'Hive1 31_05_2018_NO_QueenBee____09_50_00',\n",
       "        'Hive1 31_05_2018_NO_QueenBee____03_00_00',\n",
       "        'Hive3_14_07_2017_NO_QueenBee____19_20_00',\n",
       "        'Hive3_28_07_2017_QueenBee____07_50_00',\n",
       "        'Hive1 12_06_2018_QueenBee____17_30_00',\n",
       "        'Hive3_14_07_2017_NO_QueenBee____17_20_00',\n",
       "        'Hive1 12_06_2018_QueenBee____00_10_00',\n",
       "        'Hive3_28_07_2017_QueenBee____17_20_00',\n",
       "        'Hive1 12_06_2018_QueenBee____13_20_00',\n",
       "        'Hive1 31_05_2018_NO_QueenBee____10_30_00',\n",
       "        'Hive1 12_06_2018_QueenBee____05_40_00',\n",
       "        'Hive3_28_07_2017_QueenBee____13_10_00',\n",
       "        'Hive3_14_07_2017_NO_QueenBee____23_40_00',\n",
       "        'Hive3_28_07_2017_QueenBee____04_10_00',\n",
       "        'Hive3_14_07_2017_NO_QueenBee____13_30_00',\n",
       "        'Hive1 12_06_2018_QueenBee____15_10_00',\n",
       "        'Hive3_14_07_2017_NO_QueenBee____09_00_00',\n",
       "        'Hive3_14_07_2017_NO_QueenBee____10_00_00',\n",
       "        'Hive1 31_05_2018_NO_QueenBee____16_30_00',\n",
       "        'Hive1 12_06_2018_QueenBee____02_10_00',\n",
       "        'Hive3_14_07_2017_NO_QueenBee____05_00_00',\n",
       "        'Hive3_14_07_2017_NO_QueenBee____17_00_00',\n",
       "        'Hive1 31_05_2018_NO_QueenBee____22_00_00',\n",
       "        'Hive1 31_05_2018_NO_QueenBee____03_50_00',\n",
       "        'Hive3_28_07_2017_QueenBee____23_00_00',\n",
       "        'Hive3_28_07_2017_QueenBee____09_10_00',\n",
       "        'Hive3_28_07_2017_QueenBee____21_30_00',\n",
       "        'Hive3_28_07_2017_QueenBee____12_30_00',\n",
       "        'Hive1 31_05_2018_NO_QueenBee____16_50_00',\n",
       "        'Hive1 31_05_2018_NO_QueenBee____07_40_00',\n",
       "        'Hive3_28_07_2017_QueenBee____07_40_00',\n",
       "        'Hive3_28_07_2017_QueenBee____13_30_00',\n",
       "        'Hive1 12_06_2018_QueenBee____09_40_00',\n",
       "        'Hive3_28_07_2017_QueenBee____07_30_00',\n",
       "        'Hive1 31_05_2018_NO_QueenBee____18_20_00',\n",
       "        'Hive1 12_06_2018_QueenBee____03_30_00',\n",
       "        'Hive3_14_07_2017_NO_QueenBee____04_40_00',\n",
       "        'Hive3_28_07_2017_QueenBee____05_00_00',\n",
       "        'Hive1 31_05_2018_NO_QueenBee____02_50_00',\n",
       "        'Hive1 31_05_2018_NO_QueenBee____22_30_00',\n",
       "        'Hive1 31_05_2018_NO_QueenBee____08_00_00',\n",
       "        'Hive3_14_07_2017_NO_QueenBee____16_40_00',\n",
       "        'Hive3_14_07_2017_NO_QueenBee____21_20_00',\n",
       "        'Hive3_28_07_2017_QueenBee____10_20_00',\n",
       "        'Hive3_14_07_2017_NO_QueenBee____09_40_00',\n",
       "        'Hive3_14_07_2017_NO_QueenBee____03_50_00',\n",
       "        'Hive1 12_06_2018_QueenBee____21_40_00',\n",
       "        'Hive1 12_06_2018_QueenBee____16_30_00',\n",
       "        'Hive3_14_07_2017_NO_QueenBee____14_30_00',\n",
       "        'Hive1 12_06_2018_QueenBee____14_30_00',\n",
       "        'Hive3_28_07_2017_QueenBee____04_50_00',\n",
       "        'Hive3_14_07_2017_NO_QueenBee____07_30_00',\n",
       "        'Hive1 31_05_2018_NO_QueenBee____12_00_00',\n",
       "        'Hive3_28_07_2017_QueenBee____06_10_00',\n",
       "        'Hive1 12_06_2018_QueenBee____20_10_00',\n",
       "        'Hive1 12_06_2018_QueenBee____03_20_00',\n",
       "        'Hive1 12_06_2018_QueenBee____11_50_00',\n",
       "        'Hive1 12_06_2018_QueenBee____17_40_00',\n",
       "        'Hive1 31_05_2018_NO_QueenBee____21_30_00',\n",
       "        'Hive3_28_07_2017_QueenBee____01_00_00',\n",
       "        'Hive1 12_06_2018_QueenBee____17_00_00'], dtype=object),\n",
       " array(['Hive3_14_07_2017_NO_QueenBee____23_00_00',\n",
       "        'Hive1 31_05_2018_NO_QueenBee____11_00_00',\n",
       "        'Hive1 12_06_2018_QueenBee____15_00_00',\n",
       "        'Hive1 31_05_2018_NO_QueenBee____10_20_00',\n",
       "        'Hive1 12_06_2018_QueenBee____01_30_00',\n",
       "        'Hive1 31_05_2018_NO_QueenBee____11_30_00',\n",
       "        'Hive1 12_06_2018_QueenBee____11_30_00',\n",
       "        'Hive1 31_05_2018_NO_QueenBee____00_00_00',\n",
       "        'Hive3_28_07_2017_QueenBee____22_00_00',\n",
       "        'Hive3_14_07_2017_NO_QueenBee____18_50_00',\n",
       "        'Hive3_28_07_2017_QueenBee____20_00_00',\n",
       "        'Hive1 12_06_2018_QueenBee____00_20_00',\n",
       "        'Hive3_28_07_2017_QueenBee____13_40_00',\n",
       "        'Hive3_28_07_2017_QueenBee____17_50_00',\n",
       "        'Hive3_28_07_2017_QueenBee____11_50_00',\n",
       "        'Hive3_14_07_2017_NO_QueenBee____14_20_00',\n",
       "        'Hive1 31_05_2018_NO_QueenBee____17_40_00',\n",
       "        'Hive3_28_07_2017_QueenBee____23_10_00',\n",
       "        'Hive3_14_07_2017_NO_QueenBee____00_10_00',\n",
       "        'Hive3_28_07_2017_QueenBee____01_10_00',\n",
       "        'Hive1 31_05_2018_NO_QueenBee____18_00_00',\n",
       "        'Hive3_14_07_2017_NO_QueenBee____07_20_00',\n",
       "        'Hive1 31_05_2018_NO_QueenBee____00_40_00',\n",
       "        'Hive3_14_07_2017_NO_QueenBee____06_00_00',\n",
       "        'Hive1 12_06_2018_QueenBee____19_30_00',\n",
       "        'Hive3_14_07_2017_NO_QueenBee____20_00_00',\n",
       "        'Hive3_28_07_2017_QueenBee____02_10_00',\n",
       "        'Hive3_14_07_2017_NO_QueenBee____00_40_00',\n",
       "        'Hive1 12_06_2018_QueenBee____09_10_00',\n",
       "        'Hive1 12_06_2018_QueenBee____22_00_00',\n",
       "        'Hive1 31_05_2018_NO_QueenBee____19_30_00',\n",
       "        'Hive1 31_05_2018_NO_QueenBee____15_20_00',\n",
       "        'Hive3_14_07_2017_NO_QueenBee____08_30_00',\n",
       "        'Hive1 12_06_2018_QueenBee____04_50_00',\n",
       "        'Hive1 31_05_2018_NO_QueenBee____08_50_00',\n",
       "        'Hive3_14_07_2017_NO_QueenBee____08_00_00',\n",
       "        'Hive3_14_07_2017_NO_QueenBee____05_10_00',\n",
       "        'Hive1 12_06_2018_QueenBee____12_30_00',\n",
       "        'Hive3_28_07_2017_QueenBee____01_40_00',\n",
       "        'Hive1 31_05_2018_NO_QueenBee____14_50_00',\n",
       "        'Hive1 12_06_2018_QueenBee____15_30_00',\n",
       "        'Hive3_28_07_2017_QueenBee____14_40_00',\n",
       "        'Hive3_28_07_2017_QueenBee____13_50_00',\n",
       "        'Hive1 12_06_2018_QueenBee____13_30_00',\n",
       "        'Hive1 31_05_2018_NO_QueenBee____23_50_00',\n",
       "        'Hive3_28_07_2017_QueenBee____20_20_00',\n",
       "        'Hive3_28_07_2017_QueenBee____21_00_00',\n",
       "        'Hive3_28_07_2017_QueenBee____22_50_00',\n",
       "        'Hive1 31_05_2018_NO_QueenBee____03_40_00',\n",
       "        'Hive3_14_07_2017_NO_QueenBee____19_40_00',\n",
       "        'Hive3_28_07_2017_QueenBee____11_00_00',\n",
       "        'Hive1 31_05_2018_NO_QueenBee____11_20_00',\n",
       "        'Hive3_28_07_2017_QueenBee____04_00_00',\n",
       "        'Hive1 31_05_2018_NO_QueenBee____17_30_00',\n",
       "        'Hive3_28_07_2017_QueenBee____18_30_00',\n",
       "        'Hive3_28_07_2017_QueenBee____06_20_00',\n",
       "        'Hive1 31_05_2018_NO_QueenBee____05_30_00',\n",
       "        'Hive3_14_07_2017_NO_QueenBee____07_50_00',\n",
       "        'Hive1 31_05_2018_NO_QueenBee____05_40_00',\n",
       "        'Hive1 12_06_2018_QueenBee____06_30_00',\n",
       "        'Hive1 31_05_2018_NO_QueenBee____04_00_00',\n",
       "        'Hive1 31_05_2018_NO_QueenBee____21_50_00',\n",
       "        'Hive3_28_07_2017_QueenBee____06_40_00',\n",
       "        'Hive1 12_06_2018_QueenBee____13_40_00',\n",
       "        'Hive3_28_07_2017_QueenBee____00_50_00',\n",
       "        'Hive1 12_06_2018_QueenBee____05_30_00',\n",
       "        'Hive1 31_05_2018_NO_QueenBee____08_10_00',\n",
       "        'Hive3_14_07_2017_NO_QueenBee____10_30_00',\n",
       "        'Hive1 12_06_2018_QueenBee____11_40_00',\n",
       "        'Hive1 31_05_2018_NO_QueenBee____02_00_00',\n",
       "        'Hive1 31_05_2018_NO_QueenBee____07_00_00',\n",
       "        'Hive1 12_06_2018_QueenBee____00_00_00',\n",
       "        'Hive1 12_06_2018_QueenBee____09_00_00',\n",
       "        'Hive3_14_07_2017_NO_QueenBee____21_50_00',\n",
       "        'Hive1 31_05_2018_NO_QueenBee____01_30_00',\n",
       "        'Hive1 12_06_2018_QueenBee____10_30_00',\n",
       "        'Hive3_28_07_2017_QueenBee____08_00_00',\n",
       "        'Hive3_14_07_2017_NO_QueenBee____15_20_00',\n",
       "        'Hive1 12_06_2018_QueenBee____22_50_00',\n",
       "        'Hive3_14_07_2017_NO_QueenBee____22_50_00',\n",
       "        'Hive1 12_06_2018_QueenBee____12_10_00',\n",
       "        'Hive1 12_06_2018_QueenBee____01_50_00',\n",
       "        'Hive3_28_07_2017_QueenBee____00_20_00',\n",
       "        'Hive3_28_07_2017_QueenBee____17_00_00',\n",
       "        'Hive3_14_07_2017_NO_QueenBee____09_20_00',\n",
       "        'Hive1 12_06_2018_QueenBee____12_50_00'], dtype=object),\n",
       " array(['Hive3_28_07_2017_QueenBee____13_20_00',\n",
       "        'Hive1 12_06_2018_QueenBee____14_50_00',\n",
       "        'Hive3_14_07_2017_NO_QueenBee____05_50_00',\n",
       "        'Hive1 12_06_2018_QueenBee____13_10_00',\n",
       "        'Hive1 12_06_2018_QueenBee____18_00_00',\n",
       "        'Hive3_14_07_2017_NO_QueenBee____11_10_00',\n",
       "        'Hive1 31_05_2018_NO_QueenBee____19_50_00',\n",
       "        'Hive3_28_07_2017_QueenBee____17_10_00',\n",
       "        'Hive1 12_06_2018_QueenBee____11_20_00',\n",
       "        'Hive3_14_07_2017_NO_QueenBee____18_00_00',\n",
       "        'Hive3_28_07_2017_QueenBee____23_40_00',\n",
       "        'Hive1 31_05_2018_NO_QueenBee____09_30_00',\n",
       "        'Hive3_14_07_2017_NO_QueenBee____12_30_00',\n",
       "        'Hive1 12_06_2018_QueenBee____14_00_00',\n",
       "        'Hive1 31_05_2018_NO_QueenBee____17_10_00',\n",
       "        'Hive1 12_06_2018_QueenBee____13_50_00',\n",
       "        'Hive3_14_07_2017_NO_QueenBee____19_50_00',\n",
       "        'Hive3_14_07_2017_NO_QueenBee____13_20_00',\n",
       "        'Hive3_14_07_2017_NO_QueenBee____10_10_00',\n",
       "        'Hive3_28_07_2017_QueenBee____14_30_00',\n",
       "        'Hive1 12_06_2018_QueenBee____12_00_00',\n",
       "        'Hive3_28_07_2017_QueenBee____18_00_00',\n",
       "        'Hive3_14_07_2017_NO_QueenBee____19_00_00',\n",
       "        'Hive3_28_07_2017_QueenBee____12_50_00',\n",
       "        'Hive3_28_07_2017_QueenBee____02_20_00',\n",
       "        'Hive1 31_05_2018_NO_QueenBee____23_10_00',\n",
       "        'Hive1 31_05_2018_NO_QueenBee____20_30_00',\n",
       "        'Hive1 31_05_2018_NO_QueenBee____19_10_00',\n",
       "        'Hive1 12_06_2018_QueenBee____16_50_00',\n",
       "        'Hive3_28_07_2017_QueenBee____17_40_00',\n",
       "        'Hive1 31_05_2018_NO_QueenBee____06_20_00',\n",
       "        'Hive3_14_07_2017_NO_QueenBee____04_10_00',\n",
       "        'Hive1 12_06_2018_QueenBee____01_00_00',\n",
       "        'Hive1 12_06_2018_QueenBee____14_40_00',\n",
       "        'Hive1 31_05_2018_NO_QueenBee____00_10_00',\n",
       "        'Hive1 12_06_2018_QueenBee____23_20_00',\n",
       "        'Hive1 31_05_2018_NO_QueenBee____15_30_00',\n",
       "        'Hive3_14_07_2017_NO_QueenBee____14_00_00',\n",
       "        'Hive1 12_06_2018_QueenBee____14_20_00',\n",
       "        'Hive3_28_07_2017_QueenBee____15_20_00',\n",
       "        'Hive1 12_06_2018_QueenBee____18_10_00',\n",
       "        'Hive1 12_06_2018_QueenBee____21_50_00',\n",
       "        'Hive3_28_07_2017_QueenBee____23_20_00',\n",
       "        'Hive1 12_06_2018_QueenBee____07_40_00',\n",
       "        'Hive1 12_06_2018_QueenBee____10_00_00',\n",
       "        'Hive1 31_05_2018_NO_QueenBee____11_10_00',\n",
       "        'Hive1 12_06_2018_QueenBee____05_00_00',\n",
       "        'Hive1 31_05_2018_NO_QueenBee____17_00_00',\n",
       "        'Hive1 31_05_2018_NO_QueenBee____22_10_00',\n",
       "        'Hive3_14_07_2017_NO_QueenBee____03_20_00',\n",
       "        'Hive3_14_07_2017_NO_QueenBee____09_10_00',\n",
       "        'Hive1 12_06_2018_QueenBee____13_00_00',\n",
       "        'Hive1 12_06_2018_QueenBee____01_40_00',\n",
       "        'Hive3_28_07_2017_QueenBee____04_40_00',\n",
       "        'Hive3_28_07_2017_QueenBee____14_10_00',\n",
       "        'Hive1 12_06_2018_QueenBee____03_00_00',\n",
       "        'Hive1 12_06_2018_QueenBee____18_20_00',\n",
       "        'Hive1 12_06_2018_QueenBee____19_40_00',\n",
       "        'Hive3_14_07_2017_NO_QueenBee____19_10_00',\n",
       "        'Hive1 31_05_2018_NO_QueenBee____22_50_00',\n",
       "        'Hive3_14_07_2017_NO_QueenBee____21_10_00',\n",
       "        'Hive3_28_07_2017_QueenBee____18_20_00',\n",
       "        'Hive1 31_05_2018_NO_QueenBee____07_30_00',\n",
       "        'Hive3_28_07_2017_QueenBee____21_40_00',\n",
       "        'Hive1 31_05_2018_NO_QueenBee____06_30_00',\n",
       "        'Hive3_28_07_2017_QueenBee____19_10_00',\n",
       "        'Hive3_28_07_2017_QueenBee____00_30_00',\n",
       "        'Hive1 31_05_2018_NO_QueenBee____12_40_00',\n",
       "        'Hive1 31_05_2018_NO_QueenBee____02_30_00',\n",
       "        'Hive1 12_06_2018_QueenBee____03_40_00',\n",
       "        'Hive3_28_07_2017_QueenBee____06_00_00',\n",
       "        'Hive3_28_07_2017_QueenBee____16_50_00',\n",
       "        'Hive1 12_06_2018_QueenBee____02_30_00',\n",
       "        'Hive3_28_07_2017_QueenBee____14_00_00',\n",
       "        'Hive3_28_07_2017_QueenBee____23_50_00',\n",
       "        'Hive3_14_07_2017_NO_QueenBee____12_50_00',\n",
       "        'Hive1 31_05_2018_NO_QueenBee____10_10_00',\n",
       "        'Hive1 31_05_2018_NO_QueenBee____03_20_00',\n",
       "        'Hive3_28_07_2017_QueenBee____19_20_00',\n",
       "        'Hive1 31_05_2018_NO_QueenBee____16_00_00',\n",
       "        'Hive1 12_06_2018_QueenBee____17_20_00',\n",
       "        'Hive3_28_07_2017_QueenBee____09_30_00',\n",
       "        'Hive1 12_06_2018_QueenBee____12_40_00',\n",
       "        'Hive3_14_07_2017_NO_QueenBee____04_20_00',\n",
       "        'Hive3_28_07_2017_QueenBee____15_40_00',\n",
       "        'Hive1 31_05_2018_NO_QueenBee____06_50_00'], dtype=object))"
      ]
     },
     "execution_count": 11,
     "metadata": {},
     "output_type": "execute_result"
    }
   ],
   "source": [
    "train_samples, val_samples, test_samples"
   ]
  },
  {
   "cell_type": "code",
   "execution_count": 13,
   "metadata": {},
   "outputs": [],
   "source": [
    "model = model_loaded"
   ]
  },
  {
   "cell_type": "code",
   "execution_count": 14,
   "metadata": {},
   "outputs": [
    {
     "name": "stdout",
     "output_type": "stream",
     "text": [
      "Evaluation will happen on cuda.\n"
     ]
    },
    {
     "name": "stderr",
     "output_type": "stream",
     "text": [
      "100%|██████████| 27/27 [00:32<00:00,  1.19s/it]"
     ]
    },
    {
     "name": "stdout",
     "output_type": "stream",
     "text": [
      "torch.Size([860])\n"
     ]
    },
    {
     "name": "stderr",
     "output_type": "stream",
     "text": [
      "\n"
     ]
    }
   ],
   "source": [
    "model.eval()\n",
    "\n",
    "labels_test = []\n",
    "predictions_test = []\n",
    "\n",
    "with torch.no_grad():\n",
    "    device = \"cuda\" if torch.cuda.is_available() else \"cpu\"\n",
    "    print(f\"Evaluation will happen on {device}.\")\n",
    "    model.to(device)\n",
    "\n",
    "    for vdata in tqdm(trainer.test_dataloader):\n",
    "        vinputs, vlabels = vdata\n",
    "        vinputs, vlabels = vinputs.to(device), vlabels.to(device)\n",
    "        voutputs = model(vinputs)\n",
    "        labels_test.extend(vlabels)\n",
    "        predictions_test.extend(voutputs)\n",
    "\n",
    "labels_test = torch.stack(labels_test)\n",
    "predictions_test = torch.stack(predictions_test)\n",
    "\n",
    "print(labels_test.shape)"
   ]
  },
  {
   "cell_type": "code",
   "execution_count": 15,
   "metadata": {},
   "outputs": [
    {
     "data": {
      "text/plain": [
       "<Axes: title={'center': 'Confusion Matrix'}, xlabel='Predicted', ylabel='Actual'>"
      ]
     },
     "execution_count": 15,
     "metadata": {},
     "output_type": "execute_result"
    },
    {
     "data": {
      "image/png": "[encoded data removed]",
      "text/plain": [
       "<Figure size 640x480 with 2 Axes>"
      ]
     },
     "metadata": {},
     "output_type": "display_data"
    }
   ],
   "source": [
    "from sklearn.metrics import confusion_matrix\n",
    "import seaborn as sb\n",
    "\n",
    "conf_matr = confusion_matrix(labels_test.cpu().numpy(), predictions_test.cpu().numpy().squeeze().round())\n",
    "plt = sb.heatmap(conf_matr, annot=True, fmt='d')\n",
    "plt.set_xlabel(\"Predicted\")\n",
    "plt.set_ylabel(\"Actual\")\n",
    "plt.set_title(\"Confusion Matrix\")\n",
    "plt"
   ]
  },
  {
   "cell_type": "code",
   "execution_count": 16,
   "metadata": {},
   "outputs": [
    {
     "name": "stdout",
     "output_type": "stream",
     "text": [
      "              precision    recall  f1-score   support\n",
      "\n",
      "         0.0       0.98      1.00      0.99       490\n",
      "         1.0       0.99      0.97      0.98       370\n",
      "\n",
      "    accuracy                           0.98       860\n",
      "   macro avg       0.99      0.98      0.98       860\n",
      "weighted avg       0.99      0.98      0.98       860\n",
      "\n"
     ]
    }
   ],
   "source": [
    "from sklearn.metrics import classification_report\n",
    "\n",
    "print(classification_report(labels_test.cpu().numpy(), predictions_test.cpu().numpy().squeeze().round()))"
   ]
  },
  {
   "cell_type": "code",
   "execution_count": null,
   "metadata": {},
   "outputs": [],
   "source": []
  }
 ],
 "metadata": {
  "kernelspec": {
   "display_name": "venv",
   "language": "python",
   "name": "python3"
  },
  "language_info": {
   "codemirror_mode": {
    "name": "ipython",
    "version": 3
   },
   "file_extension": ".py",
   "mimetype": "text/x-python",
   "name": "python",
   "nbconvert_exporter": "python",
   "pygments_lexer": "ipython3",
   "version": "3.11.1"
  }
 },
 "nbformat": 4,
 "nbformat_minor": 2
}
